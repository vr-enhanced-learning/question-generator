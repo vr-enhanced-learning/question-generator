{
  "nbformat": 4,
  "nbformat_minor": 0,
  "metadata": {
    "colab": {
      "provenance": []
    },
    "kernelspec": {
      "name": "python3",
      "display_name": "Python 3"
    },
    "language_info": {
      "name": "python"
    }
  },
  "cells": [
    {
      "cell_type": "code",
      "source": [
        "# Load the required libraries\n",
        "from transformers import T5ForConditionalGeneration, T5Tokenizer\n",
        "from datasets import load_dataset\n",
        "import torch\n",
        "\n",
        "# Load the pre-trained T5 model and tokenizer\n",
        "model = T5ForConditionalGeneration.from_pretrained('t5-base')\n",
        "tokenizer = T5Tokenizer.from_pretrained('t5-base')\n",
        "\n",
        "# Load the SQuAD v2 dataset\n",
        "dataset = load_dataset('squad_v2')\n",
        "\n",
        "# Extract the passages and answers from the dataset\n",
        "passages = dataset['train']['context']\n",
        "answers = dataset['train']['answers']['text']\n",
        "\n",
        "# Prepare the input and output for the T5 model\n",
        "inputs = []\n",
        "outputs = []\n",
        "for i in range(len(passages)):\n",
        "    input_text = f'generate questions: \"{passages[i]}\" answer: \"{answers[i]}\"'\n",
        "    output_text = f'{dataset[\"train\"][i][\"question\"]}'\n",
        "    inputs.append(input_text)\n",
        "    outputs.append(output_text)\n",
        "\n",
        "# Tokenize the input and output using the T5 tokenizer\n",
        "input_ids = tokenizer(inputs, padding=True, truncation=True, return_tensors='pt')\n",
        "output_ids = tokenizer(outputs, padding=True, truncation=True, return_tensors='pt')\n",
        "\n",
        "# Fine-tune the T5 model on the SQuAD v2 dataset\n",
        "model.train()\n",
        "optimizer = torch.optim.AdamW(model.parameters(), lr=1e-4)\n",
        "for epoch in range(3):\n",
        "    for i in range(len(inputs)):\n",
        "        input_ids_batch = input_ids[i].unsqueeze(0)\n",
        "        output_ids_batch = output_ids[i].unsqueeze(0)\n",
        "        loss = model(input_ids_batch, labels=output_ids_batch).loss\n",
        "        loss.backward()\n",
        "        optimizer.step()\n",
        "        optimizer.zero_grad()\n",
        "\n",
        "# Generate questions based on a given passage\n",
        "sample_passage = 'This is a sample passage.'\n",
        "sample_answer = 'Sample answer.'\n",
        "input_text = f'generate questions: \"{sample_passage}\" answer: \"{sample_answer}\"'\n",
        "input_ids = tokenizer.encode(input_text, return_tensors='pt')\n",
        "output = model.generate(input_ids=input_ids, max_length=64, num_beams=4, no_repeat_ngram_size=2, early_stopping=True)\n",
        "output_text = tokenizer.decode(output[0], skip_special_tokens=True)\n",
        "\n",
        "# Print the generated questions\n",
        "print(output_text)\n"
      ],
      "metadata": {
        "id": "qp3Ma4CngkDc"
      },
      "execution_count": null,
      "outputs": []
    }
  ]
}